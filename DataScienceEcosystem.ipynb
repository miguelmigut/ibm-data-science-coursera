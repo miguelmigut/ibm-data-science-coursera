{
  "nbformat": 4,
  "nbformat_minor": 0,
  "metadata": {
    "colab": {
      "provenance": []
    },
    "kernelspec": {
      "name": "python3",
      "display_name": "Python 3"
    },
    "language_info": {
      "name": "python"
    }
  },
  "cells": [
    {
      "cell_type": "markdown",
      "source": [
        "<center>\n",
        "    <img src=\"https://cf-courses-data.s3.us.cloud-object-storage.appdomain.cloud/IBMDeveloperSkillsNetwork-DS0105EN-SkillsNetwork/labs/Module2/images/SN_web_lightmode.png\" width=\"300\" alt=\"cognitiveclass.ai logo\">\n",
        "</center>"
      ],
      "metadata": {
        "id": "s58gi-Uqr3Nm"
      }
    },
    {
      "cell_type": "markdown",
      "source": [
        "# Data Science Tools and Ecosystem"
      ],
      "metadata": {
        "id": "uOmLiUSLr84E"
      }
    },
    {
      "cell_type": "markdown",
      "source": [
        "In this notebook, Data Science Tools and Ecosystem are summarized."
      ],
      "metadata": {
        "id": "um9o7CgAtNmy"
      }
    },
    {
      "cell_type": "markdown",
      "source": [
        "## __Objectives__\n",
        "\n",
        "* List some popular languages ​​used in Data Science\n",
        "* List some libraries used in Data Science\n",
        "* Show a table of Data Science tools\n",
        "* Show some examples of arithmetic operations"
      ],
      "metadata": {
        "id": "2DiTsUu5zNv5"
      }
    },
    {
      "cell_type": "markdown",
      "source": [
        " ### Some of the popular languages that Data Scientists use are:\n",
        "\n",
        "1.  Python\n",
        "2.  R\n",
        "3.  SQL"
      ],
      "metadata": {
        "id": "dv0QhF1Ct5Bb"
      }
    },
    {
      "cell_type": "markdown",
      "source": [
        " ###  Some of the commonly used libraries used by Data Scientists include:\n",
        "\n",
        "1.  NumPy\n",
        "2.  Pandas\n",
        "3.  Matplotlib\n",
        "4.  Seaborn"
      ],
      "metadata": {
        "id": "z1-E4IQYuMmr"
      }
    },
    {
      "cell_type": "markdown",
      "source": [
        "| Data Science Tools |\n",
        "|--------------------|\n",
        "| Jupyter Notebook   |\n",
        "| RStudio            |\n",
        "| VS Code            |"
      ],
      "metadata": {
        "id": "RJFgp163ugs8"
      }
    },
    {
      "cell_type": "markdown",
      "source": [
        "###  Below are a few examples of evaluating arithmetic expressions in Python"
      ],
      "metadata": {
        "id": "od_Wrk1cvCYN"
      }
    },
    {
      "cell_type": "code",
      "source": [
        "# This a simple arithmetic expression to mutiply then add integers.\n",
        "(3*4)+5"
      ],
      "metadata": {
        "colab": {
          "base_uri": "https://localhost:8080/"
        },
        "id": "KLPl_5iuvPN_",
        "outputId": "4a7e0b5f-7fa6-46c1-bb57-b487af6ee580"
      },
      "execution_count": 2,
      "outputs": [
        {
          "output_type": "execute_result",
          "data": {
            "text/plain": [
              "17"
            ]
          },
          "metadata": {},
          "execution_count": 2
        }
      ]
    },
    {
      "cell_type": "code",
      "source": [
        "#This will convert 200 minutes to hours by dividing by 60\n",
        "\n",
        "m = 200\n",
        "s = 60\n",
        "h = m/s\n",
        "print(h,\"hrs\")"
      ],
      "metadata": {
        "colab": {
          "base_uri": "https://localhost:8080/"
        },
        "id": "zfQwJ2Hmw52E",
        "outputId": "f639b8df-bc92-4ece-c0b9-557561601262"
      },
      "execution_count": 7,
      "outputs": [
        {
          "output_type": "stream",
          "name": "stdout",
          "text": [
            "3.3333333333333335 hrs\n"
          ]
        }
      ]
    },
    {
      "cell_type": "markdown",
      "source": [
        "## Author\n",
        "Miguel Miranda"
      ],
      "metadata": {
        "id": "otgnAXIm5O95"
      }
    }
  ]
}